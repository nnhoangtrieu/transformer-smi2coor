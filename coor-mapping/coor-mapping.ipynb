{
 "cells": [
  {
   "cell_type": "code",
   "execution_count": 1,
   "metadata": {},
   "outputs": [],
   "source": [
    "import torch\n",
    "import torch.nn as nn\n",
    "import torch.nn.functional as F\n",
    "from torch.utils.data import DataLoader, Dataset\n",
    "import pandas as pd\n",
    "import numpy as np\n",
    "import rdkit\n",
    "import matplotlib.pyplot as plt\n",
    "import time\n",
    "import math\n",
    "import matplotlib.ticker as ticker\n",
    "from helper import train_test_split, timeSince, visualize\n",
    "from data_preprocess import smint_list, np_coor_list\n",
    "plt.switch_backend('agg')\n",
    "\n",
    "device = torch.device(\"cuda\" if torch.cuda.is_available() else \"cpu\")"
   ]
  },
  {
   "cell_type": "code",
   "execution_count": 16,
   "metadata": {},
   "outputs": [
    {
     "name": "stdout",
     "output_type": "stream",
     "text": [
      "0.0 tensor(0.) tensor(0.)\n",
      "-1.25 tensor(0.7500) tensor(-0.1500)\n",
      "-1.3899999856948853 tensor(2.1400) tensor(-0.1000)\n",
      "-2.640000104904175 tensor(2.4500) tensor(-0.2800)\n",
      "-3.359999895095825 tensor(1.2500) tensor(-0.4600)\n",
      "-2.4600000381469727 tensor(0.2100) tensor(-0.3800)\n",
      "-4.909999847412109 tensor(1.1300) tensor(-0.7100)\n",
      "-5.869999885559082 tensor(2.1900) tensor(-0.8000)\n",
      "-7.03000020980835 tensor(1.6900) tensor(-0.1100)\n",
      "-6.900000095367432 tensor(0.1500) tensor(-0.1700)\n",
      "-5.670000076293945 tensor(-0.0700) tensor(-0.9000)\n",
      "-6.809999942779541 tensor(-0.4300) tensor(1.2400)\n",
      "-8.079999923706055 tensor(-0.4500) tensor(-0.9300)\n",
      "-7.03000020980835 tensor(2.1600) tensor(1.3500)\n",
      "-8.3100004196167 tensor(2.1400) tensor(-0.8200)\n",
      "0.0 tensor(0.) tensor(0.)\n",
      "0.0 tensor(0.) tensor(0.)\n",
      "0.0 tensor(0.) tensor(0.)\n",
      "0.0 tensor(0.) tensor(0.)\n",
      "0.0 tensor(0.) tensor(0.)\n",
      "0.0 tensor(0.) tensor(0.)\n",
      "0.0 tensor(0.) tensor(0.)\n"
     ]
    }
   ],
   "source": [
    "for i in np_coor_list :\n",
    "    for x, y, z in i :\n",
    "        print(x.item(), y, z)\n",
    "    \n",
    "    break"
   ]
  },
  {
   "cell_type": "code",
   "execution_count": 17,
   "metadata": {},
   "outputs": [],
   "source": [
    "x_max, y_max, z_max = 0, 0, 0\n",
    "for coor in np_coor_list :\n",
    "    for x, y, z in coor :\n",
    "        x_max = x if x > x_max else x_max\n",
    "        y_max = y if y > y_max else y_max\n",
    "        z_max = z if z > z_max else z_max\n"
   ]
  },
  {
   "cell_type": "code",
   "execution_count": 19,
   "metadata": {},
   "outputs": [
    {
     "data": {
      "text/plain": [
       "(tensor(29.6800), tensor(9.5100), tensor(5.3900))"
      ]
     },
     "execution_count": 19,
     "metadata": {},
     "output_type": "execute_result"
    }
   ],
   "source": [
    "x_max, y_max, z_max"
   ]
  },
  {
   "cell_type": "code",
   "execution_count": 23,
   "metadata": {},
   "outputs": [
    {
     "data": {
      "text/plain": [
       "1490359.9999999998"
      ]
     },
     "execution_count": 23,
     "metadata": {},
     "output_type": "execute_result"
    }
   ],
   "source": [
    "(29.6 / 0.1) * (9.5 / 0.1) * (5.3 / 0.1)"
   ]
  },
  {
   "cell_type": "code",
   "execution_count": null,
   "metadata": {},
   "outputs": [],
   "source": []
  }
 ],
 "metadata": {
  "kernelspec": {
   "display_name": "Python 3",
   "language": "python",
   "name": "python3"
  },
  "language_info": {
   "codemirror_mode": {
    "name": "ipython",
    "version": 3
   },
   "file_extension": ".py",
   "mimetype": "text/x-python",
   "name": "python",
   "nbconvert_exporter": "python",
   "pygments_lexer": "ipython3",
   "version": "3.11.4"
  }
 },
 "nbformat": 4,
 "nbformat_minor": 2
}
