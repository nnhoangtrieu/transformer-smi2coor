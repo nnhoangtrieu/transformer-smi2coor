{
 "cells": [
  {
   "cell_type": "code",
   "execution_count": 1,
   "metadata": {},
   "outputs": [
    {
     "name": "stdout",
     "output_type": "stream",
     "text": [
      "Train data extracted\n",
      "Size: 4255\n",
      "Longest SMILES: 36\n",
      "Longest Coordinate: 22\n",
      "----------------------------------------\n",
      "Sample x: [2, 3, 4, 3, 5, 5, 6, 5, 4, 7, 8, 4, 9, 2, 6, 2, 6, 9, 4, 7, 6, 2, 7, 2, 7, 6, 2, 7, 2, 1, 0, 0, 0, 0, 0, 0]\n",
      "Sample y: [[4.8285, -1.004, 0.2024], [3.5776, -0.2572, 0.0479], [3.4435, 1.1346, 0.1047], [2.1893, 1.445, -0.0747], [1.4645, 0.2475, -0.2554], [2.3676, -0.7919, -0.1777], [-0.0805, 0.1225, -0.5047], [-1.0404, 1.1849, -0.5963], [-2.2048, 0.6858, 0.0949], [-2.0701, -0.8493, 0.0305], [-0.8409, -1.0789, -0.697], [-1.9777, -1.4359, 1.4405], [-3.2539, -1.4571, -0.7246], [-2.2055, 1.1603, 1.5494], [-3.4816, 1.1392, -0.6157]]\n"
     ]
    }
   ],
   "source": [
    "import torch \n",
    "import torch.nn as nn \n",
    "import torch.nn.functional as F\n",
    "import time\n",
    "from train import  train_loader, test_loader, smi_dic, longest_coor,longest_smi, device, timeSince"
   ]
  },
  {
   "cell_type": "code",
   "execution_count": 25,
   "metadata": {},
   "outputs": [],
   "source": [
    "class Attention(nn.Module) :\n",
    "    def __init__(self, dim_model, num_head) :\n",
    "        super(Attention, self).__init__()\n",
    "        self.dim_model = dim_model\n",
    "        self.num_head = num_head\n",
    "        self.dim_head = dim_model // num_head\n",
    "\n",
    "        self.Q = nn.Linear(dim_model, dim_model)\n",
    "        self.K = nn.Linear(dim_model, dim_model)\n",
    "        self.V = nn.Linear(dim_model, dim_model)\n",
    "\n",
    "        self.out = nn.Linear(dim_model, dim_model)\n",
    "\n",
    "    def forward(self, Q, K, V, mask) :\n",
    "        B = Q.size(0) # Shape Q, K, V: (B, longest_smi, dim_model)\n",
    "\n",
    "        Q, K, V = self.Q(Q), self.K(K), self.V(V)\n",
    "\n",
    "        len_Q, len_K, len_V = Q.size(1), K.size(1), V.size(1)\n",
    "\n",
    "        Q = Q.reshape(B, self.num_head, len_Q, self.dim_head)\n",
    "        K = K.reshape(B, self.num_head, len_K, self.dim_head)\n",
    "        V = V.reshape(B, self.num_head, len_V, self.dim_head)\n",
    "\n",
    "        K_T = K.transpose(2,3)\n",
    "\n",
    "        attn_score = Q @ K_T\n",
    "\n",
    "        attn_score = attn_score / (self.dim_head ** 1/2) \n",
    "\n",
    "        # mask = mask.to(device)\n",
    "        if mask is not None :\n",
    "            attn_score = attn_score.masked_fill(mask == 0, float(\"-1e20\"))\n",
    "            \n",
    "        attn_distribution = torch.softmax(attn_score, dim = -1)\n",
    "\n",
    "        attn = attn_distribution @ V \n",
    "\n",
    "        attn = attn.reshape(B, len_Q, self.num_head * self.dim_head)\n",
    "\n",
    "        return attn, attn_distribution"
   ]
  },
  {
   "cell_type": "code",
   "execution_count": 30,
   "metadata": {},
   "outputs": [],
   "source": [
    "\n",
    "class EncoderBlock(nn.Module) :\n",
    "  def __init__(self, dim_model, num_head, fe, dropout) :\n",
    "    super(EncoderBlock, self).__init__()\n",
    "    self.self_attn = Attention(dim_model, num_head)\n",
    "    self.norm1 = nn.LayerNorm(dim_model)\n",
    "    self.norm2 = nn.LayerNorm(dim_model)\n",
    "    self.dropout = nn.Dropout(dropout)\n",
    "    self.ff = nn.Sequential(\n",
    "      nn.Linear(dim_model, fe * dim_model),\n",
    "      nn.ReLU(),\n",
    "      nn.Linear(fe * dim_model, dim_model)\n",
    "    )\n",
    "\n",
    "  def forward(self, Q, K, V, mask) :\n",
    "    context, self_attn = self.self_attn(Q, K, V, mask)\n",
    "\n",
    "    x = self.dropout(self.norm1(context + Q))\n",
    "\n",
    "    forward = self.ff(x)\n",
    "\n",
    "    out = self.dropout(self.norm2(forward + x))\n",
    "\n",
    "    return out, self_attn"
   ]
  },
  {
   "cell_type": "code",
   "execution_count": 31,
   "metadata": {},
   "outputs": [],
   "source": [
    "class Encoder(nn.Module) :\n",
    "    def __init__(self, dim_model, num_block, num_head, len_dic, longest_smi, fe, dropout) :\n",
    "        super(Encoder, self).__init__()\n",
    "\n",
    "        self.word_embedding = nn.Embedding(len_dic, dim_model)\n",
    "        self.pos_embedding = nn.Embedding(longest_smi, dim_model)\n",
    "        self.dropout = nn.Dropout(dropout)\n",
    "        self.encoder_blocks = nn.ModuleList(\n",
    "            [EncoderBlock(dim_model, num_head, fe, dropout) for _ in range(num_block)]\n",
    "        )\n",
    "\n",
    "    def forward(self, x, mask) :\n",
    "        B, longest_smi = x.size()\n",
    "\n",
    "        pos = torch.arange(0, longest_smi).expand(B, longest_smi).to(device)\n",
    "\n",
    "        word_embed = self.word_embedding(x)\n",
    "        pos_embed = self.pos_embedding(pos)\n",
    "\n",
    "        out = self.dropout(word_embed + pos_embed)\n",
    "\n",
    "        for block in self.encoder_blocks :\n",
    "            out, self_attn = block(out, out, out, mask)\n",
    "\n",
    "        return out, self_attn"
   ]
  },
  {
   "cell_type": "code",
   "execution_count": 32,
   "metadata": {},
   "outputs": [],
   "source": [
    "encoder = Encoder(512, 2, 2, 34, 36, 2, 0.1)"
   ]
  },
  {
   "cell_type": "code",
   "execution_count": 33,
   "metadata": {},
   "outputs": [],
   "source": [
    "test_input = torch.randint(1, len(smi_dic), (16, 36))\n",
    "mask = None\n",
    "\n",
    "out = encoder(test_input, mask)"
   ]
  },
  {
   "cell_type": "code",
   "execution_count": null,
   "metadata": {},
   "outputs": [],
   "source": []
  },
  {
   "cell_type": "code",
   "execution_count": 5,
   "metadata": {},
   "outputs": [],
   "source": [
    "class DecoderBlock(nn.Module) :\n",
    "    def __init__(self, dim_model, num_head, fe, dropout) :\n",
    "        super(DecoderBlock, self).__init__()\n",
    "        self.norm1 = nn.LayerNorm(dim_model)\n",
    "        self.norm2 = nn.LayerNorm(dim_model)\n",
    "        self.norm3 = nn.LayerNorm(dim_model)\n",
    "        self.cross_attn = Attention(dim_model, num_head)\n",
    "        self.dropout = nn.Dropout(dropout)\n",
    "        self.ff = nn.Sequential(\n",
    "            nn.Linear(dim_model, fe * dim_model),\n",
    "            nn.ReLU(),\n",
    "            nn.Linear(fe * dim_model, dim_model)\n",
    "        )\n",
    "\n",
    "    def forward(self, target, K, V, input_mask, target_mask) :\n",
    "        Q = self.dropout(self.norm1(target))\n",
    "\n",
    "        context, cross_attn = self.cross_attn(Q, K, V, target_mask)\n",
    "\n",
    "        x = self.dropout(self.norm2(context + Q))\n",
    "\n",
    "        forward = self.ff(x)\n",
    "\n",
    "        out = self.dropout(self.norm3(forward + x))\n",
    "\n",
    "        return out, cross_attn"
   ]
  },
  {
   "cell_type": "code",
   "execution_count": null,
   "metadata": {},
   "outputs": [],
   "source": [
    "class Decoder(nn.Module) :\n",
    "    def __init__(self, dim_model, num_block, num_head, longest_coor, fe, dropout) :\n",
    "        super(Decoder, self).__init__()\n",
    "\n",
    "        "
   ]
  }
 ],
 "metadata": {
  "kernelspec": {
   "display_name": "Python 3",
   "language": "python",
   "name": "python3"
  },
  "language_info": {
   "codemirror_mode": {
    "name": "ipython",
    "version": 3
   },
   "file_extension": ".py",
   "mimetype": "text/x-python",
   "name": "python",
   "nbconvert_exporter": "python",
   "pygments_lexer": "ipython3",
   "version": "3.11.4"
  }
 },
 "nbformat": 4,
 "nbformat_minor": 2
}
